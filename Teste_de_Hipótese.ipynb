{
 "cells": [
  {
   "cell_type": "markdown",
   "metadata": {
    "colab_type": "text",
    "id": "WvMflodMjQKe"
   },
   "source": [
    "# CURSO DE ESTATÍSTICA - PARTE 3\n",
    "## Vinicius Antunes\n",
    "\n",
    "***\n",
    "\n",
    "## Trabalho sobre testes de hipóteses\n",
    "\n",
    "Utilizando os conhecimentos adquiridos no curso realizou-se aqui o teste de hipóteses proposto abaixo."
   ]
  },
  {
   "cell_type": "markdown",
   "metadata": {
    "colab_type": "text",
    "id": "cVgsZ_E3jQKg"
   },
   "source": [
    "# DATASET DO PROJETO\n",
    "***"
   ]
  },
  {
   "cell_type": "markdown",
   "metadata": {
    "colab_type": "text",
    "id": "iN1gIbaKjQKh"
   },
   "source": [
    "### Pesquisa Nacional por Amostra de Domicílios - 2015\n",
    "\n",
    "A <b>Pesquisa Nacional por Amostra de Domicílios - PNAD</b> investiga anualmente, de forma permanente, características gerais da população, de educação, trabalho, rendimento e habitação e outras, com periodicidade variável, de acordo com as necessidades de informação para o país, como as características sobre migração, fecundidade, nupcialidade, saúde, segurança alimentar, entre outros temas. O levantamento dessas estatísticas constitui, ao longo dos 49 anos de realização da pesquisa, um importante instrumento para formulação, validação e avaliação de políticas orientadas para o desenvolvimento socioeconômico e a melhoria das condições de vida no Brasil."
   ]
  },
  {
   "cell_type": "markdown",
   "metadata": {
    "colab_type": "text",
    "id": "U6V7br1RjQKi"
   },
   "source": [
    "### Fonte dos Dados\n",
    "\n",
    "https://ww2.ibge.gov.br/home/estatistica/populacao/trabalhoerendimento/pnad2015/microdados.shtm"
   ]
  },
  {
   "cell_type": "markdown",
   "metadata": {
    "colab_type": "text",
    "id": "r0Fe_qnzjQKj"
   },
   "source": [
    "### Variáveis utilizadas\n",
    "\n",
    "> ### Renda\n",
    "> ***\n",
    "\n",
    "Rendimento mensal do trabalho principal para pessoas de 10 anos ou mais de idade.\n",
    "\n",
    "> ### Idade\n",
    "> ***\n",
    "\n",
    "Idade do morador na data de referência em anos.\n",
    "\n",
    "> ### Altura (elaboração própria para fins didáticos)\n",
    "> ***\n",
    "\n",
    "Altura do morador em metros.\n",
    "\n",
    "> ### UF\n",
    "> ***\n",
    "\n",
    "|Código|Descrição|\n",
    "|---|---|\n",
    "|11|Rondônia|\n",
    "|12|Acre|\n",
    "|13|Amazonas|\n",
    "|14|Roraima|\n",
    "|15|Pará|\n",
    "|16|Amapá|\n",
    "|17|Tocantins|\n",
    "|21|Maranhão|\n",
    "|22|Piauí|\n",
    "|23|Ceará|\n",
    "|24|Rio Grande do Norte|\n",
    "|25|Paraíba|\n",
    "|26|Pernambuco|\n",
    "|27|Alagoas|\n",
    "|28|Sergipe|\n",
    "|29|Bahia|\n",
    "|31|Minas Gerais|\n",
    "|32|Espírito Santo|\n",
    "|33|Rio de Janeiro|\n",
    "|35|São Paulo|\n",
    "|41|Paraná|\n",
    "|42|Santa Catarina|\n",
    "|43|Rio Grande do Sul|\n",
    "|50|Mato Grosso do Sul|\n",
    "|51|Mato Grosso|\n",
    "|52|Goiás|\n",
    "|53|Distrito Federal|\n",
    "\n",
    "> ### Sexo\t\n",
    "> ***\n",
    "\n",
    "|Código|Descrição|\n",
    "|---|---|\n",
    "|0|Masculino|\n",
    "|1|Feminino|\n",
    "\n",
    "> ### Anos de Estudo\n",
    "> ***\n",
    "\n",
    "|Código|Descrição|\n",
    "|---|---|\n",
    "|1|Sem instrução e menos de 1 ano|\n",
    "|2|1 ano|\n",
    "|3|2 anos|\n",
    "|4|3 anos|\n",
    "|5|4 anos|\n",
    "|6|5 anos|\n",
    "|7|6 anos|\n",
    "|8|7 anos|\n",
    "|9|8 anos|\n",
    "|10|9 anos|\n",
    "|11|10 anos|\n",
    "|12|11 anos|\n",
    "|13|12 anos|\n",
    "|14|13 anos|\n",
    "|15|14 anos|\n",
    "|16|15 anos ou mais|\n",
    "|17|Não determinados| \n",
    "||Não aplicável|\n",
    "\n",
    "> ### Cor\n",
    "> ***\n",
    "\n",
    "|Código|Descrição|\n",
    "|---|---|\n",
    "|0|Indígena|\n",
    "|2|Branca|\n",
    "|4|Preta|\n",
    "|6|Amarela|\n",
    "|8|Parda|\n",
    "|9|Sem declaração|"
   ]
  },
  {
   "cell_type": "markdown",
   "metadata": {
    "colab_type": "text",
    "id": "OK1IQH5cX7Gb"
   },
   "source": [
    "#### Observação\n",
    "***\n",
    "> Os seguintes tratamentos foram realizados nos dados originais:\n",
    "> 1. Foram eliminados os registros onde a <b>Renda</b> era inválida (999 999 999 999);\n",
    "> 2. Foram eliminados os registros onde a <b>Renda</b> era missing;\n",
    "> 3. Foram considerados somente os registros das <b>Pessoas de Referência</b> de cada domicílio (responsável pelo domicílio)."
   ]
  },
  {
   "cell_type": "markdown",
   "metadata": {
    "colab_type": "text",
    "id": "ZIqLOffNTg1Y"
   },
   "source": [
    "***\n",
    "***"
   ]
  },
  {
   "cell_type": "markdown",
   "metadata": {
    "colab_type": "text",
    "id": "8Rw70V6ojQKk"
   },
   "source": [
    "### Importando as biblioteca necessárias"
   ]
  },
  {
   "cell_type": "code",
   "execution_count": 1,
   "metadata": {
    "colab": {},
    "colab_type": "code",
    "id": "fcTgimHBybMz"
   },
   "outputs": [],
   "source": [
    "import pandas as pd\n",
    "import numpy as np\n",
    "from scipy.stats import norm\n",
    "from statsmodels.stats.weightstats import DescrStatsW, CompareMeans"
   ]
  },
  {
   "cell_type": "markdown",
   "metadata": {
    "colab_type": "text",
    "id": "2a-gvBvCULwt"
   },
   "source": [
    "### Importando o dataset e armazenando o conteúdo em uma DataFrame"
   ]
  },
  {
   "cell_type": "code",
   "execution_count": 2,
   "metadata": {
    "colab": {},
    "colab_type": "code",
    "id": "ufRZ7TLwjQKo"
   },
   "outputs": [],
   "source": [
    "dados = pd.read_csv('dados.csv', sep=',')"
   ]
  },
  {
   "cell_type": "markdown",
   "metadata": {
    "colab_type": "text",
    "id": "Oq3CKHCmTg1j"
   },
   "source": [
    "### Visualizando o conteúdo do DataFrame"
   ]
  },
  {
   "cell_type": "code",
   "execution_count": 3,
   "metadata": {
    "colab": {},
    "colab_type": "code",
    "id": "GsC_WhLFjQKq",
    "scrolled": true
   },
   "outputs": [
    {
     "data": {
      "text/html": [
       "<div>\n",
       "<style scoped>\n",
       "    .dataframe tbody tr th:only-of-type {\n",
       "        vertical-align: middle;\n",
       "    }\n",
       "\n",
       "    .dataframe tbody tr th {\n",
       "        vertical-align: top;\n",
       "    }\n",
       "\n",
       "    .dataframe thead th {\n",
       "        text-align: right;\n",
       "    }\n",
       "</style>\n",
       "<table border=\"1\" class=\"dataframe\">\n",
       "  <thead>\n",
       "    <tr style=\"text-align: right;\">\n",
       "      <th></th>\n",
       "      <th>UF</th>\n",
       "      <th>Sexo</th>\n",
       "      <th>Idade</th>\n",
       "      <th>Cor</th>\n",
       "      <th>Anos de Estudo</th>\n",
       "      <th>Renda</th>\n",
       "      <th>Altura</th>\n",
       "    </tr>\n",
       "  </thead>\n",
       "  <tbody>\n",
       "    <tr>\n",
       "      <td>0</td>\n",
       "      <td>11</td>\n",
       "      <td>0</td>\n",
       "      <td>23</td>\n",
       "      <td>8</td>\n",
       "      <td>12</td>\n",
       "      <td>800</td>\n",
       "      <td>1.603808</td>\n",
       "    </tr>\n",
       "    <tr>\n",
       "      <td>1</td>\n",
       "      <td>11</td>\n",
       "      <td>1</td>\n",
       "      <td>23</td>\n",
       "      <td>2</td>\n",
       "      <td>12</td>\n",
       "      <td>1150</td>\n",
       "      <td>1.739790</td>\n",
       "    </tr>\n",
       "    <tr>\n",
       "      <td>2</td>\n",
       "      <td>11</td>\n",
       "      <td>1</td>\n",
       "      <td>35</td>\n",
       "      <td>8</td>\n",
       "      <td>15</td>\n",
       "      <td>880</td>\n",
       "      <td>1.760444</td>\n",
       "    </tr>\n",
       "    <tr>\n",
       "      <td>3</td>\n",
       "      <td>11</td>\n",
       "      <td>0</td>\n",
       "      <td>46</td>\n",
       "      <td>2</td>\n",
       "      <td>6</td>\n",
       "      <td>3500</td>\n",
       "      <td>1.783158</td>\n",
       "    </tr>\n",
       "    <tr>\n",
       "      <td>4</td>\n",
       "      <td>11</td>\n",
       "      <td>1</td>\n",
       "      <td>47</td>\n",
       "      <td>8</td>\n",
       "      <td>9</td>\n",
       "      <td>150</td>\n",
       "      <td>1.690631</td>\n",
       "    </tr>\n",
       "  </tbody>\n",
       "</table>\n",
       "</div>"
      ],
      "text/plain": [
       "   UF  Sexo  Idade  Cor  Anos de Estudo  Renda    Altura\n",
       "0  11     0     23    8              12    800  1.603808\n",
       "1  11     1     23    2              12   1150  1.739790\n",
       "2  11     1     35    8              15    880  1.760444\n",
       "3  11     0     46    2               6   3500  1.783158\n",
       "4  11     1     47    8               9    150  1.690631"
      ]
     },
     "execution_count": 3,
     "metadata": {},
     "output_type": "execute_result"
    }
   ],
   "source": [
    "dados.head()"
   ]
  },
  {
   "cell_type": "markdown",
   "metadata": {
    "colab_type": "text",
    "id": "lmAJLIu8pslb"
   },
   "source": [
    "## Problema"
   ]
  },
  {
   "cell_type": "markdown",
   "metadata": {
    "colab_type": "text",
    "id": "0zUUY8klpslc"
   },
   "source": [
    "Você é um pesquisador que estuda o mercado de trabalho brasileiro e resolve estudar as diferenças salariais dos trabalhadores dos estados do Rio de Janeiro e de São Paulo. Durante sua pesquisa você verifica que, aparentemente, os rendimentos dos trabalhadores no estado do Rio de Janeiro são mais baixos que os rendimentos dos trabalhadores no estado de São Paulo. Para confirmar esta conclusão realize um teste de hipótese de comparação de médias em cima de duas amostras de trabalhadores dos dois estados. Siga as seguintes etapas:\n",
    "\n",
    "<ol>\n",
    "    <li>Selecione duas amostras de **500 trabalhadores** para cada um dos dois estados (variável UF) para realizar o teste. Utilize o **parâmetro random_state=101**.<\\li>\n",
    "    <li>Considere o **nível de significância de 5%**.<\\li>\n",
    "    <li>Teste a hipótese de que a **renda média dos trabalhadores do Rio de Janeiro é menor que a renda média dos trabalhadores de São Paulo**.<\\li>\n",
    "<\\ol>"
   ]
  },
  {
   "cell_type": "markdown",
   "metadata": {
    "colab_type": "text",
    "id": "WUknTBZgpslc"
   },
   "source": [
    "---"
   ]
  },
  {
   "cell_type": "markdown",
   "metadata": {
    "colab_type": "text",
    "id": "xzGuwM4xpslc"
   },
   "source": [
    "### Seleção das amostras"
   ]
  },
  {
   "cell_type": "code",
   "execution_count": 4,
   "metadata": {
    "colab": {},
    "colab_type": "code",
    "id": "nuNSrzfYpsld",
    "scrolled": true
   },
   "outputs": [
    {
     "data": {
      "text/plain": [
       "49905    1800\n",
       "47376     700\n",
       "50288    8000\n",
       "54266    1800\n",
       "54578    2364\n",
       "Name: Renda, dtype: int64"
      ]
     },
     "execution_count": 4,
     "metadata": {},
     "output_type": "execute_result"
    }
   ],
   "source": [
    "SP = dados.query('UF == 35').sample(n=500, random_state=101).Renda\n",
    "SP.head()"
   ]
  },
  {
   "cell_type": "code",
   "execution_count": 5,
   "metadata": {
    "colab": {},
    "colab_type": "code",
    "id": "W-W9IOs1psle",
    "scrolled": true
   },
   "outputs": [
    {
     "data": {
      "text/plain": [
       "45760     1300\n",
       "42265    35000\n",
       "41069     1300\n",
       "44659     2364\n",
       "46366     1500\n",
       "Name: Renda, dtype: int64"
      ]
     },
     "execution_count": 5,
     "metadata": {},
     "output_type": "execute_result"
    }
   ],
   "source": [
    "RJ = dados.query('UF == 33').sample(n=500, random_state=101).Renda\n",
    "RJ.head()"
   ]
  },
  {
   "cell_type": "markdown",
   "metadata": {
    "colab_type": "text",
    "id": "FOFa-cHwpslg"
   },
   "source": [
    "### Dados do problema\n",
    "Obtendo média e desvio-padrão para as duas amostras"
   ]
  },
  {
   "cell_type": "code",
   "execution_count": 6,
   "metadata": {
    "colab": {},
    "colab_type": "code",
    "id": "BGyXCbompslh"
   },
   "outputs": [
    {
     "data": {
      "text/plain": [
       "2839.352"
      ]
     },
     "execution_count": 6,
     "metadata": {},
     "output_type": "execute_result"
    }
   ],
   "source": [
    "media_SP = SP.mean()\n",
    "media_SP"
   ]
  },
  {
   "cell_type": "code",
   "execution_count": 7,
   "metadata": {
    "colab": {},
    "colab_type": "code",
    "id": "RoxFOCA3pslk"
   },
   "outputs": [
    {
     "data": {
      "text/plain": [
       "2240.518"
      ]
     },
     "execution_count": 7,
     "metadata": {},
     "output_type": "execute_result"
    }
   ],
   "source": [
    "media_RJ = RJ.mean()\n",
    "media_RJ"
   ]
  },
  {
   "cell_type": "code",
   "execution_count": 8,
   "metadata": {
    "colab": {},
    "colab_type": "code",
    "id": "Of8L6Hygpsll"
   },
   "outputs": [
    {
     "data": {
      "text/plain": [
       "3699.384225434127"
      ]
     },
     "execution_count": 8,
     "metadata": {},
     "output_type": "execute_result"
    }
   ],
   "source": [
    "desvio_padrao_SP = SP.std()\n",
    "desvio_padrao_SP"
   ]
  },
  {
   "cell_type": "code",
   "execution_count": 9,
   "metadata": {
    "colab": {},
    "colab_type": "code",
    "id": "-cSpXXTepsln"
   },
   "outputs": [
    {
     "data": {
      "text/plain": [
       "4643.836161867941"
      ]
     },
     "execution_count": 9,
     "metadata": {},
     "output_type": "execute_result"
    }
   ],
   "source": [
    "desvio_padrao_RJ = RJ.std()\n",
    "desvio_padrao_RJ"
   ]
  },
  {
   "cell_type": "code",
   "execution_count": 10,
   "metadata": {},
   "outputs": [
    {
     "name": "stdout",
     "output_type": "stream",
     "text": [
      "n_RJ = n_SP = 500\n"
     ]
    }
   ],
   "source": [
    "n_SP = len(SP)\n",
    "n_RJ = len(RJ)\n",
    "print('n_RJ = n_SP = {}'.format(n_SP))"
   ]
  },
  {
   "cell_type": "code",
   "execution_count": 11,
   "metadata": {},
   "outputs": [
    {
     "name": "stdout",
     "output_type": "stream",
     "text": [
      "D_0 = 0\n"
     ]
    }
   ],
   "source": [
    "D_0 = 0\n",
    "print('D_0 = {}'.format(D_0))"
   ]
  },
  {
   "cell_type": "markdown",
   "metadata": {
    "colab_type": "text",
    "id": "Kyp6CNssrAmw"
   },
   "source": [
    "## Lembrando-se..."
   ]
  },
  {
   "cell_type": "markdown",
   "metadata": {
    "colab_type": "text",
    "id": "xGGMFhzwrAmx"
   },
   "source": [
    "<img src='https://caelum-online-public.s3.amazonaws.com/1229-estatistica-parte3/01/img014.png' width=85%>"
   ]
  },
  {
   "cell_type": "markdown",
   "metadata": {
    "colab_type": "text",
    "id": "PGoWwWwjpslp"
   },
   "source": [
    "---"
   ]
  },
  {
   "cell_type": "markdown",
   "metadata": {
    "colab_type": "text",
    "id": "tO597Oxgpslp"
   },
   "source": [
    "### **Passo 1** - formulação das hipóteses $H_0$ e $H_1$\n",
    "\n",
    "#### Lembrando que a hipótese nula sempre contém a alegação de igualdade"
   ]
  },
  {
   "cell_type": "markdown",
   "metadata": {
    "colab_type": "text",
    "id": "LysVU-7fpslr"
   },
   "source": [
    "### $\\mu_R \\Rightarrow$ Média das rendas dos chefes de domicílios de Rio de Janeiro\n",
    "## $\\mu_S \\Rightarrow$ Média das rendas dos chefes de domicílios do São Paulo\n",
    "\n",
    "### $\n",
    "\\begin{cases}\n",
    "H_0: \\mu_R \\geq \\mu_S\\\\\n",
    "H_1: \\mu_R < \\mu_S\n",
    "\\end{cases}\n",
    "$\n",
    "\n",
    "### ou\n",
    "\n",
    "### $\n",
    "\\begin{cases}\n",
    "H_0: \\mu_R -\\mu_S \\geq 0 = D_0\\\\\n",
    "H_1: \\mu_R -\\mu_S < 0 = D_0\n",
    "\\end{cases}\n",
    "$"
   ]
  },
  {
   "cell_type": "markdown",
   "metadata": {
    "colab_type": "text",
    "id": "ENKqbCgQpslr"
   },
   "source": [
    "---"
   ]
  },
  {
   "cell_type": "markdown",
   "metadata": {
    "colab_type": "text",
    "id": "dBA05Y3Zpslr"
   },
   "source": [
    "### **Passo 2** - escolhendo a distribuição amostral adequada\n",
    "<img src='https://caelum-online-public.s3.amazonaws.com/1229-estatistica-parte3/01/img003.png' width=50%>"
   ]
  },
  {
   "cell_type": "markdown",
   "metadata": {
    "colab_type": "text",
    "id": "6_Q_Wtjlpsls"
   },
   "source": [
    "### O tamanho da amostra é maior que 30?\n",
    "#### Resp.: Sim. É 500 para cada Unidade da Federação.\n",
    "\n",
    "### Podemos afirmar que a população se distribui aproximadamente como uma normal?\n",
    "#### Resp.: Não.\n",
    "\n",
    "### O desvio padrão populacional é conhecido?\n",
    "#### Resp.: Não."
   ]
  },
  {
   "cell_type": "markdown",
   "metadata": {
    "colab_type": "text",
    "id": "T6sVzVjVpsls"
   },
   "source": [
    "---"
   ]
  },
  {
   "cell_type": "markdown",
   "metadata": {
    "colab_type": "text",
    "id": "SUN4yJqzpsls"
   },
   "source": [
    "### **Passo 3** - fixaçando a significância do teste ($\\alpha$)"
   ]
  },
  {
   "cell_type": "code",
   "execution_count": 12,
   "metadata": {
    "colab": {},
    "colab_type": "code",
    "id": "b3Y_CZmzpsls"
   },
   "outputs": [
    {
     "name": "stdout",
     "output_type": "stream",
     "text": [
      "Significancia = 5%\n"
     ]
    }
   ],
   "source": [
    "significancia = 0.05\n",
    "print('Significancia = {:.0f}%'.format(significancia * 100))"
   ]
  },
  {
   "cell_type": "code",
   "execution_count": 13,
   "metadata": {
    "colab": {},
    "colab_type": "code",
    "id": "AL2i9JOTpslw"
   },
   "outputs": [
    {
     "name": "stdout",
     "output_type": "stream",
     "text": [
      "confiança = 95%\n"
     ]
    }
   ],
   "source": [
    "confianca = 1 - significancia\n",
    "print('confiança = {:.0f}%'.format(confianca * 100))"
   ]
  },
  {
   "cell_type": "markdown",
   "metadata": {
    "colab_type": "text",
    "id": "xUhiEXRMpslv"
   },
   "source": [
    "---"
   ]
  },
  {
   "cell_type": "markdown",
   "metadata": {
    "colab_type": "text",
    "id": "iooB1aPHpslv"
   },
   "source": [
    "### **Passo 4** - calculando a estatística-teste e verificando esse valor com as áreas de aceitação e rejeição do teste"
   ]
  },
  {
   "cell_type": "code",
   "execution_count": 14,
   "metadata": {
    "colab": {},
    "colab_type": "code",
    "id": "qNse2bFRpslu"
   },
   "outputs": [
    {
     "name": "stdout",
     "output_type": "stream",
     "text": [
      "z_alpha = -1.64\n"
     ]
    }
   ],
   "source": [
    "z_alpha = norm.ppf(significancia)\n",
    "print('z_alpha = {}'.format(z_alpha.round(2)))"
   ]
  },
  {
   "cell_type": "code",
   "execution_count": 15,
   "metadata": {
    "colab": {},
    "colab_type": "code",
    "id": "qNse2bFRpslu"
   },
   "outputs": [
    {
     "name": "stdout",
     "output_type": "stream",
     "text": [
      "z = -2.255\n"
     ]
    }
   ],
   "source": [
    "numerador = (media_RJ - media_SP) - D_0\n",
    "denominador = np.sqrt((desvio_padrao_RJ ** 2) / n_RJ + (desvio_padrao_SP ** 2) / n_SP)\n",
    "z = numerador / denominador\n",
    "print('z = {}'.format(z.round(3)))"
   ]
  },
  {
   "cell_type": "markdown",
   "metadata": {
    "colab_type": "text",
    "id": "4dn58Fc2pslx"
   },
   "source": [
    "---"
   ]
  },
  {
   "cell_type": "markdown",
   "metadata": {
    "colab_type": "text",
    "id": "P-7NL33-pslx"
   },
   "source": [
    "### **Passo 5** - Aceitando ou rejeitando a hipótese nula:"
   ]
  },
  {
   "cell_type": "markdown",
   "metadata": {
    "colab_type": "text",
    "id": "QrObW-BXpsly"
   },
   "source": [
    "### - Pelo critério do valor crítico"
   ]
  },
  {
   "cell_type": "code",
   "execution_count": 16,
   "metadata": {
    "colab": {},
    "colab_type": "code",
    "id": "tkJSji7gpsly"
   },
   "outputs": [
    {
     "name": "stdout",
     "output_type": "stream",
     "text": [
      "\n",
      "Rejeitar a hipótese H_0\n",
      "Rejeitamos, com 95% de confiança\n"
     ]
    }
   ],
   "source": [
    "# Para rejeitar a hipótese H_0 devemos comparar os valores de z e z_alplha\n",
    "# Se z <= -z_alpha ==> rejeitamos a hipótese H_0\n",
    "\n",
    "if(z <= z_alpha):\n",
    "    print('\\nRejeitar a hipótese H_0\\n'\n",
    "          'Rejeitamos, com 95% de confiança')\n",
    "else:\n",
    "    print('\\nAceitamos a hipótese H_0\\n'\n",
    "          'Aceitamos, com 95% de confiança')"
   ]
  },
  {
   "cell_type": "markdown",
   "metadata": {
    "colab_type": "text",
    "id": "cyuNEHfwpsl0"
   },
   "source": [
    "### Pelo critério do valor $p$"
   ]
  },
  {
   "cell_type": "markdown",
   "metadata": {
    "colab_type": "text",
    "id": "UtWm-GiFPkyX"
   },
   "source": [
    "### Utilizando a classe DescrStatsW"
   ]
  },
  {
   "cell_type": "code",
   "execution_count": 17,
   "metadata": {
    "colab": {},
    "colab_type": "code",
    "id": "uW0uVFnFpsl1"
   },
   "outputs": [],
   "source": [
    "teste_SP = DescrStatsW(SP)"
   ]
  },
  {
   "cell_type": "code",
   "execution_count": 18,
   "metadata": {
    "colab": {},
    "colab_type": "code",
    "id": "uW0uVFnFpsl1"
   },
   "outputs": [],
   "source": [
    "teste_RJ = DescrStatsW(RJ)"
   ]
  },
  {
   "cell_type": "code",
   "execution_count": 19,
   "metadata": {
    "colab": {},
    "colab_type": "code",
    "id": "diOjg4G8psl2"
   },
   "outputs": [],
   "source": [
    "teste_A = teste_RJ.get_compare(teste_SP)"
   ]
  },
  {
   "cell_type": "code",
   "execution_count": 20,
   "metadata": {
    "colab": {
     "base_uri": "https://localhost:8080/",
     "height": 34
    },
    "colab_type": "code",
    "id": "tweh7q_spsl5",
    "outputId": "2be2f414-fbce-4e56-f514-b0962d978494"
   },
   "outputs": [
    {
     "name": "stdout",
     "output_type": "stream",
     "text": [
      "Estatística z = -2.255\n",
      "p_valor = 0.012\n"
     ]
    }
   ],
   "source": [
    "z, p_valor = teste_A.ztest_ind(alternative=\"smaller\", value=D_0)\n",
    "print('Estatística z = {}'.format(z.round(3)))\n",
    "print('p_valor = {}'.format(p_valor.round(3)))"
   ]
  },
  {
   "cell_type": "code",
   "execution_count": 21,
   "metadata": {
    "colab": {
     "base_uri": "https://localhost:8080/",
     "height": 34
    },
    "colab_type": "code",
    "id": "E3NF1BzYpsl6",
    "outputId": "5263cd1f-302b-467e-d56f-737978daafc2"
   },
   "outputs": [
    {
     "name": "stdout",
     "output_type": "stream",
     "text": [
      "\n",
      "Rejeitar a hipótese H_0\n",
      "Rejeitamos, com 95% de confiança\n"
     ]
    }
   ],
   "source": [
    "# Para rejeitar a hipótese H_0 devemos comparar os valores de p_valor e da significancia\n",
    "# Se p_valor <= significancia ==> rejeitamos a hipótese H_0\n",
    "\n",
    "if(p_valor <= significancia):\n",
    "    print('\\nRejeitar a hipótese H_0\\n'\n",
    "          'Rejeitamos, com 95% de confiança')\n",
    "else:\n",
    "    print('\\nAceitamos a hipótese H_0\\n'\n",
    "          'Aceitamos, com 95% de confiança')\n"
   ]
  },
  {
   "cell_type": "markdown",
   "metadata": {
    "colab_type": "text",
    "id": "Syf0s5X2Pkye"
   },
   "source": [
    "### Utilizando a classe CompareMeans"
   ]
  },
  {
   "cell_type": "code",
   "execution_count": 22,
   "metadata": {
    "colab": {},
    "colab_type": "code",
    "id": "diOjg4G8psl2"
   },
   "outputs": [],
   "source": [
    "teste_B = CompareMeans(teste_RJ, teste_SP)"
   ]
  },
  {
   "cell_type": "code",
   "execution_count": 23,
   "metadata": {
    "colab": {
     "base_uri": "https://localhost:8080/",
     "height": 34
    },
    "colab_type": "code",
    "id": "tweh7q_spsl5",
    "outputId": "2be2f414-fbce-4e56-f514-b0962d978494"
   },
   "outputs": [
    {
     "name": "stdout",
     "output_type": "stream",
     "text": [
      "Estatística z = -2.255\n",
      "p_valor = 0.012\n"
     ]
    }
   ],
   "source": [
    "z, p_valor = teste_B.ztest_ind(alternative=\"smaller\", value=D_0)\n",
    "print('Estatística z = {}'.format(z.round(3)))\n",
    "print('p_valor = {}'.format(p_valor.round(3)))"
   ]
  },
  {
   "cell_type": "code",
   "execution_count": 24,
   "metadata": {
    "colab": {
     "base_uri": "https://localhost:8080/",
     "height": 34
    },
    "colab_type": "code",
    "id": "E3NF1BzYpsl6",
    "outputId": "5263cd1f-302b-467e-d56f-737978daafc2"
   },
   "outputs": [
    {
     "name": "stdout",
     "output_type": "stream",
     "text": [
      "\n",
      "Rejeitar a hipótese H_0\n",
      "Rejeitamos, com 95% de confiança\n"
     ]
    }
   ],
   "source": [
    "# Para rejeitar a hipótese H_0 devemos comparar os valores de p_valor e da significancia\n",
    "# Se p_valor <= significancia ==> rejeitamos a hipótese H_0\n",
    "\n",
    "if(p_valor <= significancia):\n",
    "    print('\\nRejeitar a hipótese H_0\\n'\n",
    "          'Rejeitamos, com 95% de confiança')\n",
    "else:\n",
    "    print('\\nAceitamos a hipótese H_0\\n'\n",
    "          'Aceitamos, com 95% de confiança')\n"
   ]
  }
 ],
 "metadata": {
  "colab": {
   "name": "Teste_de_Hipótese.ipynb",
   "provenance": [],
   "toc_visible": true,
   "version": "0.3.2"
  },
  "kernelspec": {
   "display_name": "Python 3",
   "language": "python",
   "name": "python3"
  },
  "language_info": {
   "codemirror_mode": {
    "name": "ipython",
    "version": 3
   },
   "file_extension": ".py",
   "mimetype": "text/x-python",
   "name": "python",
   "nbconvert_exporter": "python",
   "pygments_lexer": "ipython3",
   "version": "3.7.4"
  }
 },
 "nbformat": 4,
 "nbformat_minor": 4
}
